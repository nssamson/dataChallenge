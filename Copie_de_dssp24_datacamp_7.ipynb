{
  "nbformat": 4,
  "nbformat_minor": 0,
  "metadata": {
    "colab": {
      "provenance": [],
      "gpuType": "T4",
      "include_colab_link": true
    },
    "kernelspec": {
      "name": "python3",
      "display_name": "Python 3"
    },
    "language_info": {
      "name": "python"
    },
    "accelerator": "GPU"
  },
  "cells": [
    {
      "cell_type": "markdown",
      "metadata": {
        "id": "view-in-github",
        "colab_type": "text"
      },
      "source": [
        "<a href=\"https://colab.research.google.com/github/nssamson/dataChallenge/blob/master/Copie_de_dssp24_datacamp_7.ipynb\" target=\"_parent\"><img src=\"https://colab.research.google.com/assets/colab-badge.svg\" alt=\"Open In Colab\"/></a>"
      ]
    },
    {
      "cell_type": "code",
      "source": [
        "from google.colab import drive\n",
        "drive.mount('/content/drive')\n"
      ],
      "metadata": {
        "colab": {
          "base_uri": "https://localhost:8080/"
        },
        "id": "e-bx4QmqG_kc",
        "outputId": "4951a5a4-db94-4951-9c02-cb660f1835d3"
      },
      "execution_count": null,
      "outputs": [
        {
          "output_type": "stream",
          "name": "stdout",
          "text": [
            "Mounted at /content/drive\n"
          ]
        }
      ]
    },
    {
      "cell_type": "code",
      "source": [
        "!pip install pyspark\n",
        "!pip install nltk"
      ],
      "metadata": {
        "colab": {
          "base_uri": "https://localhost:8080/"
        },
        "id": "ShBiawYyHRrg",
        "outputId": "8ba2cc68-94a0-4f18-c1b4-642bf59f1b47"
      },
      "execution_count": null,
      "outputs": [
        {
          "output_type": "stream",
          "name": "stdout",
          "text": [
            "Collecting pyspark\n",
            "  Downloading pyspark-3.5.0.tar.gz (316.9 MB)\n",
            "\u001b[2K     \u001b[90m━━━━━━━━━━━━━━━━━━━━━━━━━━━━━━━━━━━━━━━━\u001b[0m \u001b[32m316.9/316.9 MB\u001b[0m \u001b[31m4.4 MB/s\u001b[0m eta \u001b[36m0:00:00\u001b[0m\n",
            "\u001b[?25h  Preparing metadata (setup.py) ... \u001b[?25l\u001b[?25hdone\n",
            "Requirement already satisfied: py4j==0.10.9.7 in /usr/local/lib/python3.10/dist-packages (from pyspark) (0.10.9.7)\n",
            "Building wheels for collected packages: pyspark\n",
            "  Building wheel for pyspark (setup.py) ... \u001b[?25l\u001b[?25hdone\n",
            "  Created wheel for pyspark: filename=pyspark-3.5.0-py2.py3-none-any.whl size=317425345 sha256=2e4f1c9fb4af8be62a0b121d4b4f98f69018ffe67ecd3b0f047103b71ae15297\n",
            "  Stored in directory: /root/.cache/pip/wheels/41/4e/10/c2cf2467f71c678cfc8a6b9ac9241e5e44a01940da8fbb17fc\n",
            "Successfully built pyspark\n",
            "Installing collected packages: pyspark\n",
            "Successfully installed pyspark-3.5.0\n",
            "Requirement already satisfied: nltk in /usr/local/lib/python3.10/dist-packages (3.8.1)\n",
            "Requirement already satisfied: click in /usr/local/lib/python3.10/dist-packages (from nltk) (8.1.7)\n",
            "Requirement already satisfied: joblib in /usr/local/lib/python3.10/dist-packages (from nltk) (1.3.2)\n",
            "Requirement already satisfied: regex>=2021.8.3 in /usr/local/lib/python3.10/dist-packages (from nltk) (2023.12.25)\n",
            "Requirement already satisfied: tqdm in /usr/local/lib/python3.10/dist-packages (from nltk) (4.66.1)\n"
          ]
        }
      ]
    },
    {
      "cell_type": "code",
      "source": [
        "from pyspark.sql import SparkSession\n",
        "from pyspark.sql import Row\n",
        "from pyspark.sql.types import StringType\n",
        "from pyspark.sql.types import ArrayType\n",
        "from pyspark.sql.functions import udf\n",
        "from functools import partial\n",
        "\n",
        "spark = SparkSession.builder.appName('datacamp').getOrCreate()\n",
        "sc = spark.sparkContext\n",
        "\n",
        "#dataRDD = sc.textFile('smallset.tsv').map(lambda x:x.strip().split('\\t'))\n",
        "dataRDD = sc.textFile('/content/drive/MyDrive/DSSP/DSSP_2024-02-09_FinalDataCamp/smallset.tsv').map(lambda x:x.strip().split('\\t'))"
      ],
      "metadata": {
        "id": "JUEcISKYHSWo"
      },
      "execution_count": null,
      "outputs": []
    },
    {
      "cell_type": "code",
      "execution_count": null,
      "metadata": {
        "colab": {
          "base_uri": "https://localhost:8080/"
        },
        "id": "_P0mnKy0GQvb",
        "outputId": "d336624f-11ae-46cf-9f0a-227627341334"
      },
      "outputs": [
        {
          "output_type": "stream",
          "name": "stdout",
          "text": [
            "################\n"
          ]
        }
      ],
      "source": [
        "\n",
        "dataDF=dataRDD.toDF(['id','title','body','tags'])\n",
        "custom_udf_schema = ArrayType(StringType())\n",
        "split_string_udf = udf(lambda x:x.split(','),custom_udf_schema)\n",
        "dataDF = dataDF.withColumn('array_tags',split_string_udf(dataDF.tags))\n",
        "dataDF = dataDF.drop(dataDF.tags)\n",
        "#dataDF.show()\n",
        "\n",
        "\n",
        "possible_tags = sc.broadcast([u'javascript', u'css', u'jquery', u'html'])\n",
        "\n",
        "\n",
        "def array_string_transform(row,tags):\n",
        "\tdata = row.asDict()\n",
        "\tfor tag in tags.value:\n",
        "\t\tdata[tag] = 0\n",
        "\tfor existing_tag in data['array_tags']:\n",
        "\t\tdata[existing_tag] = 1\n",
        "\tnewRow = Row(*data.keys())\n",
        "\tnewRow = newRow(*data.values())\n",
        "\treturn newRow\n",
        "\n",
        "\n",
        "mapFunction = partial(array_string_transform,tags=possible_tags)\n",
        "dataDF = dataDF.rdd.map(mapFunction).toDF()\n",
        "\n",
        "#########################################################\n",
        "# Features Examples\n",
        "#########################################################\n",
        "\n",
        "#Classic TF-IDF (with hashing)\n",
        "from pyspark.ml.feature import HashingTF, IDF, Tokenizer\n",
        "\n",
        "#1. split text field into words (Tokenize)\n",
        "\n",
        "\n",
        "import re\n",
        "# remove punctuation\n",
        "udf_punctuation_remover = udf(lambda x: re.sub(r'[^\\w\\s]', ' ', x), returnType=StringType())\n",
        "dataDF = dataDF.withColumn('title_no_punctuation', udf_punctuation_remover(dataDF.title))\n",
        "dataDF = dataDF.withColumn('body_no_punctuation', udf_punctuation_remover(dataDF.body))\n",
        "\n",
        "# title tokenizer\n",
        "tokenizer = Tokenizer(inputCol=\"title_no_punctuation\", outputCol=\"words_title\")\n",
        "dataDF = tokenizer.transform(dataDF)\n",
        "\n",
        "\n",
        "\n",
        "#print (\"New column with tokenized text\")\n",
        "#print (dataDF.show())\n",
        "\n",
        "# stemmer / stopwords\n",
        "import string\n",
        "from nltk.stem import PorterStemmer\n",
        "stemmer = PorterStemmer()\n",
        "stopwords = ['i', 'me', 'my', 'myself', 'we', 'our', 'ours', 'ourselves', 'you', 'your', 'yours',\n",
        "              'yourself', 'yourselves', 'he', 'him', 'his', 'himself', 'she', 'her', 'hers',\n",
        "              'herself', 'it', 'its', 'itself', 'they', 'them', 'their', 'theirs', 'themselves',\n",
        "              'what', 'which', 'who', 'whom', 'this', 'that', 'these', 'those', 'am', 'is', 'are',\n",
        "              'was', 'were', 'be', 'been', 'being', 'have', 'has', 'had', 'having', 'do', 'does',\n",
        "              'did', 'doing', 'a', 'an', 'the', 'and', 'but', 'if', 'or', 'because', 'as', 'until',\n",
        "              'while', 'of', 'at', 'by', 'for', 'with', 'about', 'against', 'between', 'into',\n",
        "              'through', 'during', 'before', 'after', 'above', 'below', 'to', 'from', 'up', 'down',\n",
        "              'in', 'out', 'on', 'off', 'over', 'under', 'again', 'further', 'then', 'once', 'here',\n",
        "              'there', 'when', 'where', 'why', 'how', 'all', 'any', 'both', 'each', 'few', 'more',\n",
        "              'most', 'other', 'some', 'such', 'no', 'nor', 'not', 'only', 'own', 'same', 'so',\n",
        "              'than', 'too', 'very', 's', 't', 'can', 'will', 'just', 'don', 'should', 'now','br']\n",
        "punctuation = set(string.punctuation)\n",
        "def stemmer_stopwords (doc):\n",
        "  return [stemmer.stem(w) for w in doc if ((w not in stopwords) and (w not in punctuation))]\n",
        "udf_stemmer_stopwords = udf(lambda x: stemmer_stopwords(x), returnType=ArrayType(StringType()))\n",
        "dataDF = dataDF.withColumn('words_title', udf_stemmer_stopwords(dataDF.words_title))\n",
        "dataDF = dataDF.withColumn('words_body', udf_stemmer_stopwords(dataDF.body))\n",
        "\n",
        "#2. compute term frequencies\n",
        "hashingTF = HashingTF(inputCol=\"words_title\", outputCol=\"tf_title\",numFeatures=100000)\n",
        "dataDF = hashingTF.transform(dataDF)\n",
        "hashingTF = HashingTF(inputCol=\"words_body\", outputCol=\"tf_body\",numFeatures=100000)\n",
        "dataDF = hashingTF.transform(dataDF)\n",
        "\n",
        "\n",
        "#dataDF.show()\n",
        "\n",
        "print (\"################\")\n",
        "\n",
        "#3. IDF computation\n",
        "\n",
        "def IDF_compute(inputCol,outputCol,dataDF):\n",
        "  idf = IDF(inputCol=inputCol, outputCol=outputCol)\n",
        "  idfModel = idf.fit(dataDF)\n",
        "  return idfModel.transform(dataDF)\n",
        "\n",
        "from pyspark.ml.feature import ChiSqSelector\n",
        "from pyspark.ml.classification import LogisticRegression\n",
        "\n",
        "from pyspark.ml.feature import ChiSqSelector\n",
        "\n",
        "def chi_2(features_col,output_col,label_col,num_features,train_df,test_df):\n",
        "    chi_model = ChiSqSelector(featuresCol=features_col, outputCol=output_col, labelCol=label_col, numTopFeatures=num_features).fit(train_df)\n",
        "    train_df = chi_model.transform(train_df)\n",
        "    test_df = chi_model.transform(test_df)\n",
        "    return train_df, test_df\n",
        "\n",
        "from pyspark.ml.feature import PCA\n",
        "\n",
        "def pca(features_col,output_col,k,train_df,test_df):\n",
        "    svd= PCA(k=k, inputCol=features_col, outputCol=output_col).fit(train_df)\n",
        "    train_df = svd.transform(train_df)\n",
        "    test_df = svd.transform(test_df)\n",
        "    return train_df, test_df\n",
        "\n",
        "\n",
        "\n"
      ]
    },
    {
      "cell_type": "code",
      "source": [
        "\n",
        "##########------------------------#########################################################@\n",
        "\n",
        "dataDF = IDF_compute(\"tf_title\", \"tf_idf_title\", dataDF)\n",
        "dataDF = IDF_compute(\"tf_body\", \"tf_idf_body\", dataDF)\n",
        "#dataDF.show()\n",
        "print (\"################\")\n",
        "\n",
        "#B. Train and Evaluate Features with simple logistic regression ON ONE LABEL\n",
        "#1. Simple evaluation methodology : train and test split\n",
        "(train,test)=dataDF.rdd.randomSplit([0.8,0.2],seed=42)\n",
        "\n",
        "\n",
        "num_features=20\n",
        "train_df=train.toDF()\n",
        "test_df=test.toDF()\n",
        "\n",
        "# Def du Test de Chi2\n",
        "# HTML TITLE\n",
        "train_df, test_df = chi_2(\"tf_idf_title\", \"selected_features_html_title\", \"html\", 100, train_df, test_df)\n",
        "train_df, test_df = pca(\"selected_features_html_title\", \"selected_features_html_PCA_title\", 50, train_df, test_df)\n",
        "\n",
        "#HTML BODY\n",
        "train_df, test_df = chi_2(\"tf_idf_body\", \"selected_features_html_body\", \"html\", 100, train_df, test_df)\n",
        "train_df, test_df = pca(\"selected_features_html_body\", \"selected_features_html_PCA_body\", 50, train_df, test_df)\n",
        "\n",
        "# JAVASCRIPT ASSEMBLER\n",
        "from pyspark.ml.feature import VectorAssembler\n",
        "# Combine selected features into a single vector column\n",
        "assembler = VectorAssembler(inputCols=[\"selected_features_html_PCA_title\", \"selected_features_html_PCA_body\"], outputCol=\"features_html\")\n",
        "train_df = assembler.transform(train_df)\n",
        "test_df = assembler.transform(test_df)\n",
        "\n",
        "# JAVASCRIPT TITLE\n",
        "train_df, test_df = chi_2(\"tf_idf_title\", \"selected_features_javascript_title\", \"javascript\", 100, train_df, test_df)\n",
        "train_df, test_df = pca(\"selected_features_javascript_title\", \"selected_features_javascript_PCA_title\", 50, train_df, test_df)\n",
        "\n",
        "# JAVASCRIPT BODY\n",
        "train_df, test_df = chi_2(\"tf_idf_body\", \"selected_features_javascript_body\", \"javascript\", 100, train_df, test_df)\n",
        "train_df, test_df = pca(\"selected_features_javascript_body\", \"selected_features_javascript_PCA_body\", 50, train_df, test_df)\n",
        "\n",
        "# JAVASCRIPT ASSEMBLER\n",
        "assembler = VectorAssembler(inputCols=[\"selected_features_javascript_PCA_title\", \"selected_features_javascript_PCA_body\"], outputCol=\"features_javascript\")\n",
        "train_df = assembler.transform(train_df)\n",
        "test_df = assembler.transform(test_df)\n",
        "\n",
        "\n",
        "# JQUERY TITLE\n",
        "train_df, test_df = chi_2(\"tf_idf_title\", \"selected_features_jquery_title\", \"jquery\", 100, train_df, test_df)\n",
        "train_df, test_df = pca(\"selected_features_jquery_title\", \"selected_features_jquery_PCA_title\", 50, train_df, test_df)\n",
        "\n",
        "# JQUERY BODY\n",
        "train_df, test_df = chi_2(\"tf_idf_body\", \"selected_features_jquery_body\", \"jquery\", 100, train_df, test_df)\n",
        "train_df, test_df = pca(\"selected_features_jquery_body\", \"selected_features_jquery_PCA_body\", 50, train_df, test_df)\n",
        "\n",
        "# JQUERY ASSEMBLER\n",
        "assembler = VectorAssembler(inputCols=[\"selected_features_jquery_PCA_title\", \"selected_features_jquery_PCA_body\"], outputCol=\"features_jquery\")\n",
        "train_df = assembler.transform(train_df)\n",
        "test_df = assembler.transform(test_df)\n",
        "\n",
        "# CSS TITLE\n",
        "train_df, test_df = chi_2(\"tf_idf_title\", \"selected_features_css_title\", \"css\", 100, train_df, test_df)\n",
        "train_df, test_df = pca(\"selected_features_css_title\", \"selected_features_css_PCA_title\", 50, train_df, test_df)\n",
        "# CSS BODY\n",
        "train_df, test_df = chi_2(\"tf_idf_body\", \"selected_features_css_body\", \"css\", 100, train_df, test_df)\n",
        "train_df, test_df = pca(\"selected_features_css_body\", \"selected_features_css_PCA_body\", 50, train_df, test_df)\n",
        "\n",
        "# CSS ASSEMBLER\n",
        "assembler = VectorAssembler(inputCols=[\"selected_features_css_PCA_title\", \"selected_features_css_PCA_body\"], outputCol=\"features_css\")\n",
        "train_df = assembler.transform(train_df)\n",
        "test_df = assembler.transform(test_df)\n"
      ],
      "metadata": {
        "colab": {
          "base_uri": "https://localhost:8080/"
        },
        "id": "Ne7oUjMJJMSZ",
        "outputId": "ab326bc0-680b-4003-fd7e-9d07ed75d3bf"
      },
      "execution_count": null,
      "outputs": [
        {
          "output_type": "stream",
          "name": "stdout",
          "text": [
            "################\n"
          ]
        }
      ]
    },
    {
      "cell_type": "code",
      "source": [
        "train_df.write.parquet('/content/drive/MyDrive/DSSP/DSSP_2024-02-09_FinalDataCamp/train_df2.parquet')\n",
        "test_df.write.parquet('/content/drive/MyDrive/DSSP/DSSP_2024-02-09_FinalDataCamp/test_df2.parquet')"
      ],
      "metadata": {
        "id": "cXk072mcO_P0"
      },
      "execution_count": null,
      "outputs": []
    },
    {
      "cell_type": "code",
      "source": [
        "weight_t=2\n",
        "weight_b=1\n",
        "train_df= train_df.withColumn(\"selected_features_html_PCA_title_W\",train_df.selected_features_html_PCA_title * weight_t)\n",
        "train_df =train_df.withColumn(\"selected_features_html_PCA_body_W\",train_df.selected_features_html_PCA_body * weight_b)\n",
        "test_df= test_df.withColumn(\"selected_features_html_PCA_title_W\",train_df.selected_features_html_PCA_title * weight_t)\n",
        "test_df =test_df.withColumn(\"selected_features_html_PCA_body_W\",train_df.selected_features_html_PCA_body * weight_b)\n",
        "\n",
        "\n",
        "assembler = VectorAssembler(inputCols=[\"selected_features_html_PCA_title_W\", \"selected_features_html_PCA_body_W\"], outputCol=\"features_html_W\")\n",
        "train_df = assembler.transform(train_df)\n",
        "test_df = assembler.transform(test_df)\n",
        "\n",
        "weight_t=2\n",
        "weight_b=1\n",
        "\n",
        "train_df.withColumn(\"selected_features_javascript_PCA_title_W\",train_df.selected_features_javascript_PCA_title * weight_title_javascript)\n",
        "assembler = VectorAssembler(inputCols=[\"selected_features_javascript_PCA_title_W\", \"selected_features_javascript_PCA_body\"], outputCol=\"features_javascript_W\")\n",
        "train_df = assembler.transform(train_df)\n",
        "test_df = assembler.transform(test_df)\n",
        "\n",
        "weight_t=2\n",
        "weight_b=1\n",
        "\n",
        "train_df.withColumn(\"selected_features_jquery_PCA_title_W\",train_df.selected_features_jquery_PCA_title * weight_title_jquery)\n",
        "assembler = VectorAssembler(inputCols=[\"selected_features_jquery_PCA_title_W\", \"selected_features_jquery_PCA_body\"], outputCol=\"features_jquery_W\")\n",
        "train_df = assembler.transform(train_df)\n",
        "test_df = assembler.transform(test_df)\n",
        "\n",
        "\n",
        "weight_t=2\n",
        "weight_b=1\n",
        "\n",
        "train_df.withColumn(\"selected_features_css_PCA_title_W\",train_df.selected_features_css_PCA_title * weight_title_css)\n",
        "assembler = VectorAssembler(inputCols=[\"selected_features_css_PCA_title_W\", \"selected_features_css_PCA_body\"], outputCol=\"features_css_W\")\n",
        "train_df = assembler.transform(train_df)\n",
        "test_df = assembler.transform(test_df)\n",
        "\n"
      ],
      "metadata": {
        "colab": {
          "base_uri": "https://localhost:8080/",
          "height": 1000
        },
        "id": "YbZ8YidYQKPE",
        "outputId": "192b717e-7202-4e5e-f285-e8681767dad8"
      },
      "execution_count": null,
      "outputs": [
        {
          "output_type": "error",
          "ename": "AnalysisException",
          "evalue": "[DATATYPE_MISMATCH.BINARY_OP_DIFF_TYPES] Cannot resolve \"(selected_features_html_PCA_title * 2)\" due to data type mismatch: the left and right operands of the binary operator have incompatible types (\"STRUCT<type: TINYINT, size: INT, indices: ARRAY<INT>, values: ARRAY<DOUBLE>>\" and \"INT\").;\n'Project [id#193, title#194, body#195, array_tags#196, javascript#197L, css#198L, jquery#199L, html#200L, title_no_punctuation#201, body_no_punctuation#202, words_title#203, words_body#204, tf_title#205, tf_body#206, tf_idf_title#207, tf_idf_body#208, selected_features_html_title#309, selected_features_html_PCA_title#359, selected_features_html_body#460, selected_features_html_PCA_body#514, features_html#566, selected_features_javascript_title#668, selected_features_javascript_PCA_title#728, selected_features_javascript_body#844, ... 13 more fields]\n+- Project [id#193, title#194, body#195, array_tags#196, javascript#197L, css#198L, jquery#199L, html#200L, title_no_punctuation#201, body_no_punctuation#202, words_title#203, words_body#204, tf_title#205, tf_body#206, tf_idf_title#207, tf_idf_body#208, selected_features_html_title#309, selected_features_html_PCA_title#359, selected_features_html_body#460, selected_features_html_PCA_body#514, features_html#566, selected_features_javascript_title#668, selected_features_javascript_PCA_title#728, selected_features_javascript_body#844, ... 12 more fields]\n   +- Project [id#193, title#194, body#195, array_tags#196, javascript#197L, css#198L, jquery#199L, html#200L, title_no_punctuation#201, body_no_punctuation#202, words_title#203, words_body#204, tf_title#205, tf_body#206, tf_idf_title#207, tf_idf_body#208, selected_features_html_title#309, selected_features_html_PCA_title#359, selected_features_html_body#460, selected_features_html_PCA_body#514, features_html#566, selected_features_javascript_title#668, selected_features_javascript_PCA_title#728, selected_features_javascript_body#844, ... 11 more fields]\n      +- Project [id#193, title#194, body#195, array_tags#196, javascript#197L, css#198L, jquery#199L, html#200L, title_no_punctuation#201, body_no_punctuation#202, words_title#203, words_body#204, tf_title#205, tf_body#206, tf_idf_title#207, tf_idf_body#208, selected_features_html_title#309, selected_features_html_PCA_title#359, selected_features_html_body#460, selected_features_html_PCA_body#514, features_html#566, selected_features_javascript_title#668, selected_features_javascript_PCA_title#728, selected_features_javascript_body#844, ... 10 more fields]\n         +- Project [id#193, title#194, body#195, array_tags#196, javascript#197L, css#198L, jquery#199L, html#200L, title_no_punctuation#201, body_no_punctuation#202, words_title#203, words_body#204, tf_title#205, tf_body#206, tf_idf_title#207, tf_idf_body#208, selected_features_html_title#309, selected_features_html_PCA_title#359, selected_features_html_body#460, selected_features_html_PCA_body#514, features_html#566, selected_features_javascript_title#668, selected_features_javascript_PCA_title#728, selected_features_javascript_body#844, ... 9 more fields]\n            +- Project [id#193, title#194, body#195, array_tags#196, javascript#197L, css#198L, jquery#199L, html#200L, title_no_punctuation#201, body_no_punctuation#202, words_title#203, words_body#204, tf_title#205, tf_body#206, tf_idf_title#207, tf_idf_body#208, selected_features_html_title#309, selected_features_html_PCA_title#359, selected_features_html_body#460, selected_features_html_PCA_body#514, features_html#566, selected_features_javascript_title#668, selected_features_javascript_PCA_title#728, selected_features_javascript_body#844, ... 8 more fields]\n               +- Project [id#193, title#194, body#195, array_tags#196, javascript#197L, css#198L, jquery#199L, html#200L, title_no_punctuation#201, body_no_punctuation#202, words_title#203, words_body#204, tf_title#205, tf_body#206, tf_idf_title#207, tf_idf_body#208, selected_features_html_title#309, selected_features_html_PCA_title#359, selected_features_html_body#460, selected_features_html_PCA_body#514, features_html#566, selected_features_javascript_title#668, selected_features_javascript_PCA_title#728, selected_features_javascript_body#844, ... 7 more fields]\n                  +- Project [id#193, title#194, body#195, array_tags#196, javascript#197L, css#198L, jquery#199L, html#200L, title_no_punctuation#201, body_no_punctuation#202, words_title#203, words_body#204, tf_title#205, tf_body#206, tf_idf_title#207, tf_idf_body#208, selected_features_html_title#309, selected_features_html_PCA_title#359, selected_features_html_body#460, selected_features_html_PCA_body#514, features_html#566, selected_features_javascript_title#668, selected_features_javascript_PCA_title#728, selected_features_javascript_body#844, ... 6 more fields]\n                     +- Project [id#193, title#194, body#195, array_tags#196, javascript#197L, css#198L, jquery#199L, html#200L, title_no_punctuation#201, body_no_punctuation#202, words_title#203, words_body#204, tf_title#205, tf_body#206, tf_idf_title#207, tf_idf_body#208, selected_features_html_title#309, selected_features_html_PCA_title#359, selected_features_html_body#460, selected_features_html_PCA_body#514, features_html#566, selected_features_javascript_title#668, selected_features_javascript_PCA_title#728, selected_features_javascript_body#844, ... 5 more fields]\n                        +- Project [id#193, title#194, body#195, array_tags#196, javascript#197L, css#198L, jquery#199L, html#200L, title_no_punctuation#201, body_no_punctuation#202, words_title#203, words_body#204, tf_title#205, tf_body#206, tf_idf_title#207, tf_idf_body#208, selected_features_html_title#309, selected_features_html_PCA_title#359, selected_features_html_body#460, selected_features_html_PCA_body#514, features_html#566, selected_features_javascript_title#668, selected_features_javascript_PCA_title#728, selected_features_javascript_body#844, ... 4 more fields]\n                           +- Project [id#193, title#194, body#195, array_tags#196, javascript#197L, css#198L, jquery#199L, html#200L, title_no_punctuation#201, body_no_punctuation#202, words_title#203, words_body#204, tf_title#205, tf_body#206, tf_idf_title#207, tf_idf_body#208, selected_features_html_title#309, selected_features_html_PCA_title#359, selected_features_html_body#460, selected_features_html_PCA_body#514, features_html#566, selected_features_javascript_title#668, selected_features_javascript_PCA_title#728, selected_features_javascript_body#844, ... 3 more fields]\n                              +- Project [id#193, title#194, body#195, array_tags#196, javascript#197L, css#198L, jquery#199L, html#200L, title_no_punctuation#201, body_no_punctuation#202, words_title#203, words_body#204, tf_title#205, tf_body#206, tf_idf_title#207, tf_idf_body#208, selected_features_html_title#309, selected_features_html_PCA_title#359, selected_features_html_body#460, selected_features_html_PCA_body#514, features_html#566, selected_features_javascript_title#668, selected_features_javascript_PCA_title#728, selected_features_javascript_body#844, ... 2 more fields]\n                                 +- Project [id#193, title#194, body#195, array_tags#196, javascript#197L, css#198L, jquery#199L, html#200L, title_no_punctuation#201, body_no_punctuation#202, words_title#203, words_body#204, tf_title#205, tf_body#206, tf_idf_title#207, tf_idf_body#208, selected_features_html_title#309, selected_features_html_PCA_title#359, selected_features_html_body#460, selected_features_html_PCA_body#514, features_html#566, selected_features_javascript_title#668, selected_features_javascript_PCA_title#728, selected_features_javascript_body#844, UDF(selected_features_javascript_body#844) AS selected_features_javascript_PCA_body#908]\n                                    +- Project [id#193, title#194, body#195, array_tags#196, javascript#197L, css#198L, jquery#199L, html#200L, title_no_punctuation#201, body_no_punctuation#202, words_title#203, words_body#204, tf_title#205, tf_body#206, tf_idf_title#207, tf_idf_body#208, selected_features_html_title#309, selected_features_html_PCA_title#359, selected_features_html_body#460, selected_features_html_PCA_body#514, features_html#566, selected_features_javascript_title#668, selected_features_javascript_PCA_title#728, UDF(tf_idf_body#208) AS selected_features_javascript_body#844]\n                                       +- Project [id#193, title#194, body#195, array_tags#196, javascript#197L, css#198L, jquery#199L, html#200L, title_no_punctuation#201, body_no_punctuation#202, words_title#203, words_body#204, tf_title#205, tf_body#206, tf_idf_title#207, tf_idf_body#208, selected_features_html_title#309, selected_features_html_PCA_title#359, selected_features_html_body#460, selected_features_html_PCA_body#514, features_html#566, selected_features_javascript_title#668, UDF(selected_features_javascript_title#668) AS selected_features_javascript_PCA_title#728]\n                                          +- Project [id#193, title#194, body#195, array_tags#196, javascript#197L, css#198L, jquery#199L, html#200L, title_no_punctuation#201, body_no_punctuation#202, words_title#203, words_body#204, tf_title#205, tf_body#206, tf_idf_title#207, tf_idf_body#208, selected_features_html_title#309, selected_features_html_PCA_title#359, selected_features_html_body#460, selected_features_html_PCA_body#514, features_html#566, UDF(tf_idf_title#207) AS selected_features_javascript_title#668]\n                                             +- Project [id#193, title#194, body#195, array_tags#196, javascript#197L, css#198L, jquery#199L, html#200L, title_no_punctuation#201, body_no_punctuation#202, words_title#203, words_body#204, tf_title#205, tf_body#206, tf_idf_title#207, tf_idf_body#208, selected_features_html_title#309, selected_features_html_PCA_title#359, selected_features_html_body#460, selected_features_html_PCA_body#514, UDF(struct(selected_features_html_PCA_title, selected_features_html_PCA_title#359, selected_features_html_PCA_body, selected_features_html_PCA_body#514)) AS features_html#566]\n                                                +- Project [id#193, title#194, body#195, array_tags#196, javascript#197L, css#198L, jquery#199L, html#200L, title_no_punctuation#201, body_no_punctuation#202, words_title#203, words_body#204, tf_title#205, tf_body#206, tf_idf_title#207, tf_idf_body#208, selected_features_html_title#309, selected_features_html_PCA_title#359, selected_features_html_body#460, UDF(selected_features_html_body#460) AS selected_features_html_PCA_body#514]\n                                                   +- Project [id#193, title#194, body#195, array_tags#196, javascript#197L, css#198L, jquery#199L, html#200L, title_no_punctuation#201, body_no_punctuation#202, words_title#203, words_body#204, tf_title#205, tf_body#206, tf_idf_title#207, tf_idf_body#208, selected_features_html_title#309, selected_features_html_PCA_title#359, UDF(tf_idf_body#208) AS selected_features_html_body#460]\n                                                      +- Project [id#193, title#194, body#195, array_tags#196, javascript#197L, css#198L, jquery#199L, html#200L, title_no_punctuation#201, body_no_punctuation#202, words_title#203, words_body#204, tf_title#205, tf_body#206, tf_idf_title#207, tf_idf_body#208, selected_features_html_title#309, UDF(selected_features_html_title#309) AS selected_features_html_PCA_title#359]\n                                                         +- Project [id#193, title#194, body#195, array_tags#196, javascript#197L, css#198L, jquery#199L, html#200L, title_no_punctuation#201, body_no_punctuation#202, words_title#203, words_body#204, tf_title#205, tf_body#206, tf_idf_title#207, tf_idf_body#208, UDF(tf_idf_title#207) AS selected_features_html_title#309]\n                                                            +- LogicalRDD [id#193, title#194, body#195, array_tags#196, javascript#197L, css#198L, jquery#199L, html#200L, title_no_punctuation#201, body_no_punctuation#202, words_title#203, words_body#204, tf_title#205, tf_body#206, tf_idf_title#207, tf_idf_body#208], false\n",
          "traceback": [
            "\u001b[0;31m---------------------------------------------------------------------------\u001b[0m",
            "\u001b[0;31mAnalysisException\u001b[0m                         Traceback (most recent call last)",
            "\u001b[0;32m<ipython-input-11-cff83e298760>\u001b[0m in \u001b[0;36m<cell line: 3>\u001b[0;34m()\u001b[0m\n\u001b[1;32m      1\u001b[0m \u001b[0mWeight_t\u001b[0m\u001b[0;34m=\u001b[0m\u001b[0;36m2\u001b[0m\u001b[0;34m\u001b[0m\u001b[0;34m\u001b[0m\u001b[0m\n\u001b[1;32m      2\u001b[0m \u001b[0mWeight_b\u001b[0m\u001b[0;34m=\u001b[0m\u001b[0;36m1\u001b[0m\u001b[0;34m\u001b[0m\u001b[0;34m\u001b[0m\u001b[0m\n\u001b[0;32m----> 3\u001b[0;31m \u001b[0mtrain_df\u001b[0m\u001b[0;34m.\u001b[0m\u001b[0mwithColumn\u001b[0m\u001b[0;34m(\u001b[0m\u001b[0;34m\"selected_features_html_PCA_title_W\"\u001b[0m\u001b[0;34m,\u001b[0m\u001b[0mtrain_df\u001b[0m\u001b[0;34m.\u001b[0m\u001b[0mselected_features_html_PCA_title\u001b[0m \u001b[0;34m*\u001b[0m \u001b[0mWeight_t\u001b[0m\u001b[0;34m)\u001b[0m\u001b[0;34m\u001b[0m\u001b[0;34m\u001b[0m\u001b[0m\n\u001b[0m\u001b[1;32m      4\u001b[0m \u001b[0mtrain_df\u001b[0m\u001b[0;34m.\u001b[0m\u001b[0mwithColumn\u001b[0m\u001b[0;34m(\u001b[0m\u001b[0;34m\"selected_features_html_PCA_body_W\"\u001b[0m\u001b[0;34m,\u001b[0m\u001b[0mtrain_df\u001b[0m\u001b[0;34m.\u001b[0m\u001b[0mselected_features_html_PCA_body\u001b[0m \u001b[0;34m*\u001b[0m \u001b[0mWeight_b\u001b[0m\u001b[0;34m)\u001b[0m\u001b[0;34m\u001b[0m\u001b[0;34m\u001b[0m\u001b[0m\n\u001b[1;32m      5\u001b[0m \u001b[0;34m\u001b[0m\u001b[0m\n",
            "\u001b[0;32m/usr/local/lib/python3.10/dist-packages/pyspark/sql/dataframe.py\u001b[0m in \u001b[0;36mwithColumn\u001b[0;34m(self, colName, col)\u001b[0m\n\u001b[1;32m   5168\u001b[0m                 \u001b[0mmessage_parameters\u001b[0m\u001b[0;34m=\u001b[0m\u001b[0;34m{\u001b[0m\u001b[0;34m\"arg_name\"\u001b[0m\u001b[0;34m:\u001b[0m \u001b[0;34m\"col\"\u001b[0m\u001b[0;34m,\u001b[0m \u001b[0;34m\"arg_type\"\u001b[0m\u001b[0;34m:\u001b[0m \u001b[0mtype\u001b[0m\u001b[0;34m(\u001b[0m\u001b[0mcol\u001b[0m\u001b[0;34m)\u001b[0m\u001b[0;34m.\u001b[0m\u001b[0m__name__\u001b[0m\u001b[0;34m}\u001b[0m\u001b[0;34m,\u001b[0m\u001b[0;34m\u001b[0m\u001b[0;34m\u001b[0m\u001b[0m\n\u001b[1;32m   5169\u001b[0m             )\n\u001b[0;32m-> 5170\u001b[0;31m         \u001b[0;32mreturn\u001b[0m \u001b[0mDataFrame\u001b[0m\u001b[0;34m(\u001b[0m\u001b[0mself\u001b[0m\u001b[0;34m.\u001b[0m\u001b[0m_jdf\u001b[0m\u001b[0;34m.\u001b[0m\u001b[0mwithColumn\u001b[0m\u001b[0;34m(\u001b[0m\u001b[0mcolName\u001b[0m\u001b[0;34m,\u001b[0m \u001b[0mcol\u001b[0m\u001b[0;34m.\u001b[0m\u001b[0m_jc\u001b[0m\u001b[0;34m)\u001b[0m\u001b[0;34m,\u001b[0m \u001b[0mself\u001b[0m\u001b[0;34m.\u001b[0m\u001b[0msparkSession\u001b[0m\u001b[0;34m)\u001b[0m\u001b[0;34m\u001b[0m\u001b[0;34m\u001b[0m\u001b[0m\n\u001b[0m\u001b[1;32m   5171\u001b[0m \u001b[0;34m\u001b[0m\u001b[0m\n\u001b[1;32m   5172\u001b[0m     \u001b[0;32mdef\u001b[0m \u001b[0mwithColumnRenamed\u001b[0m\u001b[0;34m(\u001b[0m\u001b[0mself\u001b[0m\u001b[0;34m,\u001b[0m \u001b[0mexisting\u001b[0m\u001b[0;34m:\u001b[0m \u001b[0mstr\u001b[0m\u001b[0;34m,\u001b[0m \u001b[0mnew\u001b[0m\u001b[0;34m:\u001b[0m \u001b[0mstr\u001b[0m\u001b[0;34m)\u001b[0m \u001b[0;34m->\u001b[0m \u001b[0;34m\"DataFrame\"\u001b[0m\u001b[0;34m:\u001b[0m\u001b[0;34m\u001b[0m\u001b[0;34m\u001b[0m\u001b[0m\n",
            "\u001b[0;32m/usr/local/lib/python3.10/dist-packages/py4j/java_gateway.py\u001b[0m in \u001b[0;36m__call__\u001b[0;34m(self, *args)\u001b[0m\n\u001b[1;32m   1320\u001b[0m \u001b[0;34m\u001b[0m\u001b[0m\n\u001b[1;32m   1321\u001b[0m         \u001b[0manswer\u001b[0m \u001b[0;34m=\u001b[0m \u001b[0mself\u001b[0m\u001b[0;34m.\u001b[0m\u001b[0mgateway_client\u001b[0m\u001b[0;34m.\u001b[0m\u001b[0msend_command\u001b[0m\u001b[0;34m(\u001b[0m\u001b[0mcommand\u001b[0m\u001b[0;34m)\u001b[0m\u001b[0;34m\u001b[0m\u001b[0;34m\u001b[0m\u001b[0m\n\u001b[0;32m-> 1322\u001b[0;31m         return_value = get_return_value(\n\u001b[0m\u001b[1;32m   1323\u001b[0m             answer, self.gateway_client, self.target_id, self.name)\n\u001b[1;32m   1324\u001b[0m \u001b[0;34m\u001b[0m\u001b[0m\n",
            "\u001b[0;32m/usr/local/lib/python3.10/dist-packages/pyspark/errors/exceptions/captured.py\u001b[0m in \u001b[0;36mdeco\u001b[0;34m(*a, **kw)\u001b[0m\n\u001b[1;32m    183\u001b[0m                 \u001b[0;31m# Hide where the exception came from that shows a non-Pythonic\u001b[0m\u001b[0;34m\u001b[0m\u001b[0;34m\u001b[0m\u001b[0m\n\u001b[1;32m    184\u001b[0m                 \u001b[0;31m# JVM exception message.\u001b[0m\u001b[0;34m\u001b[0m\u001b[0;34m\u001b[0m\u001b[0m\n\u001b[0;32m--> 185\u001b[0;31m                 \u001b[0;32mraise\u001b[0m \u001b[0mconverted\u001b[0m \u001b[0;32mfrom\u001b[0m \u001b[0;32mNone\u001b[0m\u001b[0;34m\u001b[0m\u001b[0;34m\u001b[0m\u001b[0m\n\u001b[0m\u001b[1;32m    186\u001b[0m             \u001b[0;32melse\u001b[0m\u001b[0;34m:\u001b[0m\u001b[0;34m\u001b[0m\u001b[0;34m\u001b[0m\u001b[0m\n\u001b[1;32m    187\u001b[0m                 \u001b[0;32mraise\u001b[0m\u001b[0;34m\u001b[0m\u001b[0;34m\u001b[0m\u001b[0m\n",
            "\u001b[0;31mAnalysisException\u001b[0m: [DATATYPE_MISMATCH.BINARY_OP_DIFF_TYPES] Cannot resolve \"(selected_features_html_PCA_title * 2)\" due to data type mismatch: the left and right operands of the binary operator have incompatible types (\"STRUCT<type: TINYINT, size: INT, indices: ARRAY<INT>, values: ARRAY<DOUBLE>>\" and \"INT\").;\n'Project [id#193, title#194, body#195, array_tags#196, javascript#197L, css#198L, jquery#199L, html#200L, title_no_punctuation#201, body_no_punctuation#202, words_title#203, words_body#204, tf_title#205, tf_body#206, tf_idf_title#207, tf_idf_body#208, selected_features_html_title#309, selected_features_html_PCA_title#359, selected_features_html_body#460, selected_features_html_PCA_body#514, features_html#566, selected_features_javascript_title#668, selected_features_javascript_PCA_title#728, selected_features_javascript_body#844, ... 13 more fields]\n+- Project [id#193, title#194, body#195, array_tags#196, javascript#197L, css#198L, jquery#199L, html#200L, title_no_punctuation#201, body_no_punctuation#202, words_title#203, words_body#204, tf_title#205, tf_body#206, tf_idf_title#207, tf_idf_body#208, selected_features_html_title#309, selected_features_html_PCA_title#359, selected_features_html_body#460, selected_features_html_PCA_body#514, features_html#566, selected_features_javascript_title#668, selected_features_javascript_PCA_title#728, selected_features_javascript_body#844, ... 12 more fields]\n   +- Project [id#193, title#194, body#195, array_tags#196, javascript#197L, css#198L, jquery#199L, html#200L, title_no_punctuation#201, body_no_punctuation#202, words_title#203, words_body#204, tf_title#205, tf_body#206, tf_idf_title#207, tf_idf_body#208, selected_features_html_title#309, selected_features_html_PCA_title#359, selected_features_html_body#460, selected_features_html_PCA_body#514, features_html#566, selected_features_javascript_title#668, selected_features_javascript_PCA_title#728, selected_features_javascript_body#844, ... 11 more fields]\n      +- Project [id#193, title#194, body#195, array_tags#196, javascript#197L, css#198L, jquery#199L, html#200L, title_no_punctuation#201, body_no_punctuation#202, words_title#203, words_body#204, tf_title#205, tf_body#206, tf_idf_title#207, tf_idf_body#208, selected_features_html_title#309, selected_features_html_PCA_title#359, selected_features_html_body#460, selected_features_html_PCA_body#514, features_html#566, selected_features_javascript_title#668, selected_features_javascript_PCA_title#728, selected_features_javascript_body#844, ... 10 more fields]\n         +- Project [id#193, title#194, body#195, array_tags#196, javascript#197L, css#198L, jquery#199L, html#200L, title_no_punctuation#201, body_no_punctuation#202, words_title#203, words_body#204, tf_title#205, tf_body#206, tf_idf_title#207, tf_idf_body#208, selected_features_html_title#309, selected_features_html_PCA_title#359, selected_features_html_body#460, selected_features_html_PCA_body#514, features_html#566, selected_features_javascript_title#668, selected_features_javascript_PCA_title#728, selected_features_javascript_body#844, ... 9 more fields]\n            +- Project [id#193, title#194, body#195, array_tags#196, javascript#197L, css#198L, jquery#199L, html#200L, title_no_punctuation#201, body_no_punctuation#202, words_title#203, words_body#204, tf_title#205, tf_body#206, tf_idf_title#207, tf_idf_body#208, selected_features_html_title#309, selected_features_html_PCA_title#359, selected_features_html_body#460, selected_features_html_PCA_body#514, features_html#566, selected_features_javascript_title#668, selected_features_javascript_PCA_title#728, selected_features_javascript_body#844, ... 8 more fields]\n               +- Project [id#193, title#194, body#195, array_tags#196, javascript#197L, css#198L, jquery#199L, html#200L, title_no_punctuation#201, body_no_punctuation#202, words_title#203, words_body#204, tf_title#205, tf_body#206, tf_idf_title#207, tf_idf_body#208, selected_features_html_title#309, selected_features_html_PCA_title#359, selected_features_html_body#460, selected_features_html_PCA_body#514, features_html#566, selected_features_javascript_title#668, selected_features_javascript_PCA_title#728, selected_features_javascript_body#844, ... 7 more fields]\n                  +- Project [id#193, title#194, body#195, array_tags#196, javascript#197L, css#198L, jquery#199L, html#200L, title_no_punctuation#201, body_no_punctuation#202, words_title#203, words_body#204, tf_title#205, tf_body#206, tf_idf_title#207, tf_idf_body#208, selected_features_html_title#309, selected_features_html_PCA_title#359, selected_features_html_body#460, selected_features_html_PCA_body#514, features_html#566, selected_features_javascript_title#668, selected_features_javascript_PCA_title#728, selected_features_javascript_body#844, ... 6 more fields]\n                     +- Project [id#193, title#194, body#195, array_tags#196, javascript#197L, css#198L, jquery#199L, html#200L, title_no_punctuation#201, body_no_punctuation#202, words_title#203, words_body#204, tf_title#205, tf_body#206, tf_idf_title#207, tf_idf_body#208, selected_features_html_title#309, selected_features_html_PCA_title#359, selected_features_html_body#460, selected_features_html_PCA_body#514, features_html#566, selected_features_javascript_title#668, selected_features_javascript_PCA_title#728, selected_features_javascript_body#844, ... 5 more fields]\n                        +- Project [id#193, title#194, body#195, array_tags#196, javascript#197L, css#198L, jquery#199L, html#200L, title_no_punctuation#201, body_no_punctuation#202, words_title#203, words_body#204, tf_title#205, tf_body#206, tf_idf_title#207, tf_idf_body#208, selected_features_html_title#309, selected_features_html_PCA_title#359, selected_features_html_body#460, selected_features_html_PCA_body#514, features_html#566, selected_features_javascript_title#668, selected_features_javascript_PCA_title#728, selected_features_javascript_body#844, ... 4 more fields]\n                           +- Project [id#193, title#194, body#195, array_tags#196, javascript#197L, css#198L, jquery#199L, html#200L, title_no_punctuation#201, body_no_punctuation#202, words_title#203, words_body#204, tf_title#205, tf_body#206, tf_idf_title#207, tf_idf_body#208, selected_features_html_title#309, selected_features_html_PCA_title#359, selected_features_html_body#460, selected_features_html_PCA_body#514, features_html#566, selected_features_javascript_title#668, selected_features_javascript_PCA_title#728, selected_features_javascript_body#844, ... 3 more fields]\n                              +- Project [id#193, title#194, body#195, array_tags#196, javascript#197L, css#198L, jquery#199L, html#200L, title_no_punctuation#201, body_no_punctuation#202, words_title#203, words_body#204, tf_title#205, tf_body#206, tf_idf_title#207, tf_idf_body#208, selected_features_html_title#309, selected_features_html_PCA_title#359, selected_features_html_body#460, selected_features_html_PCA_body#514, features_html#566, selected_features_javascript_title#668, selected_features_javascript_PCA_title#728, selected_features_javascript_body#844, ... 2 more fields]\n                                 +- Project [id#193, title#194, body#195, array_tags#196, javascript#197L, css#198L, jquery#199L, html#200L, title_no_punctuation#201, body_no_punctuation#202, words_title#203, words_body#204, tf_title#205, tf_body#206, tf_idf_title#207, tf_idf_body#208, selected_features_html_title#309, selected_features_html_PCA_title#359, selected_features_html_body#460, selected_features_html_PCA_body#514, features_html#566, selected_features_javascript_title#668, selected_features_javascript_PCA_title#728, selected_features_javascript_body#844, UDF(selected_features_javascript_body#844) AS selected_features_javascript_PCA_body#908]\n                                    +- Project [id#193, title#194, body#195, array_tags#196, javascript#197L, css#198L, jquery#199L, html#200L, title_no_punctuation#201, body_no_punctuation#202, words_title#203, words_body#204, tf_title#205, tf_body#206, tf_idf_title#207, tf_idf_body#208, selected_features_html_title#309, selected_features_html_PCA_title#359, selected_features_html_body#460, selected_features_html_PCA_body#514, features_html#566, selected_features_javascript_title#668, selected_features_javascript_PCA_title#728, UDF(tf_idf_body#208) AS selected_features_javascript_body#844]\n                                       +- Project [id#193, title#194, body#195, array_tags#196, javascript#197L, css#198L, jquery#199L, html#200L, title_no_punctuation#201, body_no_punctuation#202, words_title#203, words_body#204, tf_title#205, tf_body#206, tf_idf_title#207, tf_idf_body#208, selected_features_html_title#309, selected_features_html_PCA_title#359, selected_features_html_body#460, selected_features_html_PCA_body#514, features_html#566, selected_features_javascript_title#668, UDF(selected_features_javascript_title#668) AS selected_features_javascript_PCA_title#728]\n                                          +- Project [id#193, title#194, body#195, array_tags#196, javascript#197L, css#198L, jquery#199L, html#200L, title_no_punctuation#201, body_no_punctuation#202, words_title#203, words_body#204, tf_title#205, tf_body#206, tf_idf_title#207, tf_idf_body#208, selected_features_html_title#309, selected_features_html_PCA_title#359, selected_features_html_body#460, selected_features_html_PCA_body#514, features_html#566, UDF(tf_idf_title#207) AS selected_features_javascript_title#668]\n                                             +- Project [id#193, title#194, body#195, array_tags#196, javascript#197L, css#198L, jquery#199L, html#200L, title_no_punctuation#201, body_no_punctuation#202, words_title#203, words_body#204, tf_title#205, tf_body#206, tf_idf_title#207, tf_idf_body#208, selected_features_html_title#309, selected_features_html_PCA_title#359, selected_features_html_body#460, selected_features_html_PCA_body#514, UDF(struct(selected_features_html_PCA_title, selected_features_html_PCA_title#359, selected_features_html_PCA_body, selected_features_html_PCA_body#514)) AS features_html#566]\n                                                +- Project [id#193, title#194, body#195, array_tags#196, javascript#197L, css#198L, jquery#199L, html#200L, title_no_punctuation#201, body_no_punctuation#202, words_title#203, words_body#204, tf_title#205, tf_body#206, tf_idf_title#207, tf_idf_body#208, selected_features_html_title#309, selected_features_html_PCA_title#359, selected_features_html_body#460, UDF(selected_features_html_body#460) AS selected_features_html_PCA_body#514]\n                                                   +- Project [id#193, title#194, body#195, array_tags#196, javascript#197L, css#198L, jquery#199L, html#200L, title_no_punctuation#201, body_no_punctuation#202, words_title#203, words_body#204, tf_title#205, tf_body#206, tf_idf_title#207, tf_idf_body#208, selected_features_html_title#309, selected_features_html_PCA_title#359, UDF(tf_idf_body#208) AS selected_features_html_body#460]\n                                                      +- Project [id#193, title#194, body#195, array_tags#196, javascript#197L, css#198L, jquery#199L, html#200L, title_no_punctuation#201, body_no_punctuation#202, words_title#203, words_body#204, tf_title#205, tf_body#206, tf_idf_title#207, tf_idf_body#208, selected_features_html_title#309, UDF(selected_features_html_title#309) AS selected_features_html_PCA_title#359]\n                                                         +- Project [id#193, title#194, body#195, array_tags#196, javascript#197L, css#198L, jquery#199L, html#200L, title_no_punctuation#201, body_no_punctuation#202, words_title#203, words_body#204, tf_title#205, tf_body#206, tf_idf_title#207, tf_idf_body#208, UDF(tf_idf_title#207) AS selected_features_html_title#309]\n                                                            +- LogicalRDD [id#193, title#194, body#195, array_tags#196, javascript#197L, css#198L, jquery#199L, html#200L, title_no_punctuation#201, body_no_punctuation#202, words_title#203, words_body#204, tf_title#205, tf_body#206, tf_idf_title#207, tf_idf_body#208], false\n"
          ]
        }
      ]
    },
    {
      "cell_type": "code",
      "source": [
        "train_df.write.parquet('/content/drive/MyDrive/DSSP/DSSP_2024-02-09_FinalDataCamp/train_dfW2.parquet')\n",
        "test_df.write.parquet('/content/drive/MyDrive/DSSP/DSSP_2024-02-09_FinalDataCamp/test_dfW2.parquet')"
      ],
      "metadata": {
        "id": "ScmELc1BT28Y"
      },
      "execution_count": null,
      "outputs": []
    },
    {
      "cell_type": "code",
      "source": [
        "\n",
        "logistic_html = LogisticRegression(featuresCol=\"features_html_W\", labelCol=\"html\", predictionCol=\"html_pred\", rawPredictionCol=\"html_pred_raw\", maxIter=10)\n",
        "logistic_javascript=LogisticRegression(featuresCol=\"features_javascript_W\",labelCol=\"javascript\",predictionCol='javascript_pred',rawPredictionCol=\"javascript_pred_raw\",maxIter=10)\n",
        "logistic_jquery=LogisticRegression(featuresCol=\"features_jquery_W\",labelCol=\"jquery\",predictionCol='jquery_pred',rawPredictionCol=\"jquery_pred_raw\",maxIter=10)\n",
        "logistic_css=LogisticRegression(featuresCol=\"features_css_W\",labelCol=\"css\",predictionCol='css_pred',rawPredictionCol=\"css_pred_raw\",maxIter=10)\n",
        "\n",
        "#2.initialize model parameters ...we use a simple model here\n",
        "from pyspark.ml.classification import LogisticRegression\n",
        "\n",
        "# sur les données réduites:\n",
        "\n",
        "#3. Fit the model\n",
        "lrModel_html = logistic_html.fit(train_df)\n",
        "lrModel_javascript = logistic_javascript.fit(train_df)\n",
        "lrModel_jquery = logistic_jquery.fit(train_df)\n",
        "lrModel_css = logistic_css.fit(train_df)\n",
        "\n",
        "#4.Apply model to test data\n",
        "\n",
        "result=lrModel_html.transform(test_df)\n",
        "result=result.withColumnRenamed('probability','probability_html')\n",
        "result=lrModel_javascript.transform(result)\n",
        "result=result.withColumnRenamed('probability','probability_javascript')\n",
        "result=lrModel_jquery.transform(result)\n",
        "result=result.withColumnRenamed('probability','probability_jquery')\n",
        "result=lrModel_css.transform(result)\n",
        "result=result.withColumnRenamed('probability','probability_css')\n",
        "print(result.schema.names)\n",
        "\n",
        "\n",
        "#5. Evaluation of results\n",
        "from pyspark.ml.evaluation import BinaryClassificationEvaluator\n",
        "evaluator_html = BinaryClassificationEvaluator(rawPredictionCol=\"html_pred_raw\",labelCol='html',metricName=\"areaUnderPR\",)\n",
        "evaluator_javascript = BinaryClassificationEvaluator(rawPredictionCol=\"javascript_pred_raw\",labelCol='javascript',metricName=\"areaUnderPR\",)\n",
        "evaluator_jquery = BinaryClassificationEvaluator(rawPredictionCol=\"jquery_pred_raw\",labelCol='jquery',metricName=\"areaUnderPR\",)\n",
        "evaluator_css = BinaryClassificationEvaluator(rawPredictionCol=\"css_pred_raw\",labelCol='css',metricName=\"areaUnderPR\",)\n",
        "\n",
        "\n",
        "print (\"RESULT of classifier for HTML label\")\n",
        "print (evaluator_html.evaluate(result))\n",
        "\n",
        "print (\"RESULT of classifier for javascript label\")\n",
        "print (evaluator_javascript.evaluate(result))\n",
        "\n",
        "\n",
        "print (\"RESULT of classifier for jquery label\")\n",
        "print (evaluator_jquery.evaluate(result))\n",
        "\n",
        "print (\"RESULT of classifier for css label\")\n",
        "print (evaluator_css.evaluate(result))\n",
        "\n",
        "print (\"Probabilités de prédiction pour html : \",result.select('html','probability_html','javascript','probability_javascript','jquery','probability_jquery','css','probability_css').show())\n",
        "\n",
        "#%%\n",
        "\n",
        "print (\"################\")\n",
        "\n",
        "\n",
        "#%%\n",
        "\n",
        "#DO THE SAME FOR ALL THE LABELS\n",
        "\n",
        "#C. Multi-label evaluation\n",
        "#ASSUMING all labels predicted evaluate the multi-label task\n",
        "\n",
        "#1. example of how to transform the prediction columns into one column of labels\n",
        "#return new rows with original list of labels in one column and the predicted ones in the other\n",
        "def predictions(row):\n",
        "\tdata = row.asDict()\n",
        "\tlabels=data['array_tags']\n",
        "\tpredicted=[]\n",
        "\tfor tag in [u'javascript_pred', u'css_pred', u'jquery_pred', u'html_pred']:\n",
        "\t\tif tag in data  and data[tag]==1:\n",
        "\t\t\tpredicted.append(tag.split('_')[0])\n",
        "\tret={'id':data['id'],'labels':labels,'predicted':predicted}\n",
        "\tnewRow = Row(*ret.keys())\n",
        "\tnewRow = newRow(*ret.values())\n",
        "\treturn newRow\n",
        "\n",
        "to_evaluate=result.rdd.map(predictions)\n",
        "\n",
        "\n",
        "#2.We define here a metric to evaluate all predicted tags simultaneously\n",
        "\n",
        "def F1_multilabel(x):\n",
        "\t predicted=set(x['predicted'])\n",
        "\t correct=set(x['labels'])\n",
        "\t predicted_correct=len(predicted.intersection(correct))\n",
        "\t return 2*predicted_correct/float(len(correct)+len(predicted))\n",
        "\n",
        "\n",
        "print (to_evaluate.map(F1_multilabel).mean())\n",
        "print (\"################\")"
      ],
      "metadata": {
        "colab": {
          "base_uri": "https://localhost:8080/"
        },
        "id": "5xwX3EYxIKKO",
        "outputId": "6139129f-3978-4737-87ca-7628e4d67323"
      },
      "execution_count": null,
      "outputs": [
        {
          "output_type": "stream",
          "name": "stdout",
          "text": [
            "['id', 'title', 'body', 'array_tags', 'javascript', 'css', 'jquery', 'html', 'title_no_punctuation', 'body_no_punctuation', 'words_title', 'words_body', 'tf_title', 'tf_body', 'tf_idf_title', 'tf_idf_body', 'selected_features_html_title', 'selected_features_html_PCA_title', 'selected_features_html_body', 'selected_features_html_PCA_body', 'features_html', 'selected_features_javascript_title', 'selected_features_javascript_PCA_title', 'selected_features_javascript_body', 'selected_features_javascript_PCA_body', 'features_javascript', 'selected_features_jquery_title', 'selected_features_jquery_PCA_title', 'selected_features_jquery_body', 'selected_features_jquery_PCA_body', 'features_jquery', 'selected_features_css_title', 'selected_features_css_PCA_title', 'selected_features_css_body', 'selected_features_css_PCA_body', 'features_css', 'html_pred_raw', 'probability_html', 'html_pred', 'javascript_pred_raw', 'probability_javascript', 'javascript_pred', 'jquery_pred_raw', 'probability_jquery', 'jquery_pred', 'css_pred_raw', 'probability_css', 'css_pred']\n",
            "RESULT of classifier for HTML label\n",
            "0.768194392429393\n",
            "RESULT of classifier for javascript label\n",
            "0.9299389155323908\n",
            "RESULT of classifier for jquery label\n",
            "0.799413400471861\n",
            "RESULT of classifier for css label\n",
            "0.7875878209959029\n",
            "+----+--------------------+----------+----------------------+------+--------------------+---+--------------------+\n",
            "|html|    probability_html|javascript|probability_javascript|jquery|  probability_jquery|css|     probability_css|\n",
            "+----+--------------------+----------+----------------------+------+--------------------+---+--------------------+\n",
            "|   1|[0.12552284412656...|         0|  [0.52105193907515...|     0|[0.57913008635194...|  0|[0.99927981796809...|\n",
            "|   0|[0.94527545776042...|         1|  [0.27997787513631...|     0|[0.98347822713518...|  1|[0.32828640495301...|\n",
            "|   0|[0.64873498435839...|         1|  [0.12338504925537...|     0|[0.96494256474827...|  0|[0.99526137047063...|\n",
            "|   1|[0.98522461178066...|         0|  [0.32724177185327...|     0|[0.96137270598499...|  0|[0.95543782695194...|\n",
            "|   1|[0.02083911482866...|         0|  [0.99852874129511...|     0|[0.99042282235652...|  1|[7.49905598337091...|\n",
            "|   1|[0.12552284412656...|         0|  [0.80641570219016...|     0|[0.97833942526319...|  0|[0.86402635719743...|\n",
            "|   1|[0.65993497573585...|         0|  [0.71965147259949...|     0|[0.96273317137270...|  0|[0.95766601292543...|\n",
            "|   0|[0.98796773625587...|         0|  [0.38454717102994...|     0|[0.97984422590377...|  1|[0.92195754261605...|\n",
            "|   0|[0.94527545776042...|         1|  [0.00509283972090...|     0|[0.95450577360709...|  0|[0.99953140536255...|\n",
            "|   0|[0.70197757541165...|         1|  [0.43440432724037...|     0|[0.83864477613842...|  0|[0.37706433836742...|\n",
            "|   1|[0.12552284412656...|         0|  [0.86874127727053...|     0|[0.77985485029628...|  0|[0.96383101457531...|\n",
            "|   1|[0.40428700425616...|         0|  [0.92437797382237...|     0|[0.97931082337628...|  0|[0.11029318970173...|\n",
            "|   1|[0.07242675259571...|         1|  [0.94847465751829...|     0|[0.93276559248632...|  0|[0.87825865662896...|\n",
            "|   0|[0.90943751550595...|         1|  [0.17649262249756...|     0|[0.94138381845946...|  0|[0.99132106276139...|\n",
            "|   0|[0.94527545776042...|         1|  [0.00310522154205...|     0|[0.98151539587011...|  0|[0.99968249470762...|\n",
            "|   0|[0.75941207502105...|         0|  [0.89713877760661...|     0|[0.95983728409422...|  1|[0.03246706434149...|\n",
            "|   0|[0.94527545776042...|         1|  [0.00631104241904...|     0|[0.98441994161516...|  0|[0.99997486049970...|\n",
            "|   1|[0.12552284412656...|         0|  [0.98003507583523...|     0|[0.97788532122877...|  1|[0.01696203212695...|\n",
            "|   0|[0.74862886851166...|         1|  [0.75297151968723...|     0|[0.93961968627841...|  0|[0.44325936870858...|\n",
            "|   0|[0.99552064063807...|         1|  [0.00120385987365...|     0|[0.97102610022401...|  0|[0.99994624501158...|\n",
            "+----+--------------------+----------+----------------------+------+--------------------+---+--------------------+\n",
            "only showing top 20 rows\n",
            "\n",
            "Probabilités de prédiction pour html :  None\n",
            "################\n",
            "0.7636963696369636\n",
            "################\n"
          ]
        }
      ]
    },
    {
      "cell_type": "code",
      "source": [],
      "metadata": {
        "id": "euz3b2AgOWzG"
      },
      "execution_count": null,
      "outputs": []
    }
  ]
}